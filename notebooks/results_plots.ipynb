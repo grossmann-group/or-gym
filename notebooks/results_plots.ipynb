{
 "cells": [
  {
   "cell_type": "code",
   "execution_count": 1,
   "metadata": {},
   "outputs": [],
   "source": [
    "import or_gym\n",
    "import pandas as pd\n",
    "import numpy as np\n",
    "import matplotlib.pyplot as plt\n",
    "import pickle\n",
    "import os\n",
    "from copy import deepcopy\n",
    "plt.style.use('cmu_paper')"
   ]
  },
  {
   "cell_type": "code",
   "execution_count": 2,
   "metadata": {},
   "outputs": [],
   "source": [
    "def load_model_results(model='RL', base_path='../scenarios', version=2):\n",
    "    data_dict = {}\n",
    "    data_dirs = os.listdir(base_path)\n",
    "    for d in data_dirs:\n",
    "        # Load RL data\n",
    "        if model in d and str(version) in d:\n",
    "            file_count = 0\n",
    "            _path = os.path.join(base_path, d)\n",
    "            files = os.listdir(_path)\n",
    "            for f in files:\n",
    "                if 'pkl' not in f.split('.')[-1]:\n",
    "                    continue\n",
    "                path = os.path.join(_path, f)\n",
    "                data = pickle.load(open(path, 'rb'))\n",
    "                data_dict[file_count] = deepcopy(data)\n",
    "                file_count += 1\n",
    "                \n",
    "    return data_dict"
   ]
  },
  {
   "cell_type": "code",
   "execution_count": 27,
   "metadata": {},
   "outputs": [],
   "source": [
    "rl_v2 = load_model_results()\n",
    "rl_v3 = load_model_results(version=3)\n",
    "rh_v2 = load_model_results('RH')\n",
    "rh_v3 = load_model_results('RH', version=3)\n",
    "sh_v2 = load_model_results('SH')\n",
    "sh_v3 = load_model_results('SH', version=3)\n",
    "or_v2 = load_model_results('Oracle')\n",
    "or_v3 = load_model_results('Oracle', version=3)\n",
    "\n",
    "# RL Rewards were saved differently\n",
    "rl_v2_ = pickle.load(open('../scenarios/data/rl_v2.pkl', 'rb'))\n",
    "rl_v3_ = pickle.load(open('../scenarios/data/rl_v3.pkl', 'rb'))\n",
    "rl_v2_reward = rl_v2_['rewards'].sum(axis=1)\n",
    "rl_v3_reward = rl_v3_['rewards'].sum(axis=1)"
   ]
  },
  {
   "cell_type": "code",
   "execution_count": 28,
   "metadata": {},
   "outputs": [
    {
     "data": {
      "image/png": "[encoded data removed]",
      "text/plain": [
       "<Figure size 864x576 with 1 Axes>"
      ]
     },
     "metadata": {},
     "output_type": "display_data"
    }
   ],
   "source": [
    "# Plot reward averages and std\n",
    "sh_v2_reward = np.array([i.P.values.sum() for i in sh_v2.values()])\n",
    "rh_v2_reward = np.array([i.P.values.sum() for i in rh_v2.values()])\n",
    "oracle_v2_reward = np.array([i.P.values.sum() for i in or_v2.values()])\n",
    "\n",
    "plt.figure(figsize=(12,8))\n",
    "plt.bar(0, rh_v2_reward.mean(), yerr=rh_v2_reward.std(), capsize=4)\n",
    "plt.bar(1, sh_v2_reward.mean(), yerr=sh_v2_reward.std(), capsize=4)\n",
    "plt.bar(2, rl_v2_reward.mean(), yerr=rl_v2_reward.std(), capsize=4)\n",
    "plt.bar(3, oracle_v2_reward.mean(), yerr=oracle_v2_reward.std(), capsize=4)\n",
    "\n",
    "plt.xticks(np.arange(4), ['RH', 'SH', 'RL', 'Oracle'])\n",
    "\n",
    "plt.xlabel('Models')\n",
    "plt.ylabel('Profit ($)')\n",
    "plt.title('Inventory Management with Backlog Profit by Model')\n",
    "\n",
    "plt.show()"
   ]
  },
  {
   "cell_type": "code",
   "execution_count": 29,
   "metadata": {},
   "outputs": [],
   "source": [
    "def build_data_table(RH, SH, RL, Oracle):\n",
    "    df = pd.DataFrame({'Rolling Horizon':\n",
    "                           {'A': RH.mean(),\n",
    "                            'B': RH.std()},\n",
    "                        'Shrinking Horizon':\n",
    "                           {'A': SH.mean(),\n",
    "                            'B': SH.std()},\n",
    "                        'RL':\n",
    "                           {'A': RL.mean(),\n",
    "                            'B': RL.std()},\n",
    "                        'Oracle':\n",
    "                           {'A': Oracle.mean(),\n",
    "                            'B': Oracle.std()}})\n",
    "\n",
    "    df = df.apply(lambda x: np.round(x, 1))\n",
    "    df['Metric'] = ['Mean Rewards', 'Std Rewards']\n",
    "    df = df.set_index(df['Metric']).drop('Metric', axis=1)\n",
    "    return df"
   ]
  },
  {
   "cell_type": "code",
   "execution_count": 30,
   "metadata": {},
   "outputs": [
    {
     "data": {
      "text/html": [
       "<div>\n",
       "<style scoped>\n",
       "    .dataframe tbody tr th:only-of-type {\n",
       "        vertical-align: middle;\n",
       "    }\n",
       "\n",
       "    .dataframe tbody tr th {\n",
       "        vertical-align: top;\n",
       "    }\n",
       "\n",
       "    .dataframe thead th {\n",
       "        text-align: right;\n",
       "    }\n",
       "</style>\n",
       "<table border=\"1\" class=\"dataframe\">\n",
       "  <thead>\n",
       "    <tr style=\"text-align: right;\">\n",
       "      <th></th>\n",
       "      <th>Rolling Horizon</th>\n",
       "      <th>Shrinking Horizon</th>\n",
       "      <th>RL</th>\n",
       "      <th>Oracle</th>\n",
       "    </tr>\n",
       "    <tr>\n",
       "      <th>Metric</th>\n",
       "      <th></th>\n",
       "      <th></th>\n",
       "      <th></th>\n",
       "      <th></th>\n",
       "    </tr>\n",
       "  </thead>\n",
       "  <tbody>\n",
       "    <tr>\n",
       "      <th>Mean Rewards</th>\n",
       "      <td>791.6</td>\n",
       "      <td>825.3</td>\n",
       "      <td>737.2</td>\n",
       "      <td>774.3</td>\n",
       "    </tr>\n",
       "    <tr>\n",
       "      <th>Std Rewards</th>\n",
       "      <td>52.3</td>\n",
       "      <td>36.8</td>\n",
       "      <td>24.8</td>\n",
       "      <td>54.0</td>\n",
       "    </tr>\n",
       "  </tbody>\n",
       "</table>\n",
       "</div>"
      ],
      "text/plain": [
       "              Rolling Horizon  Shrinking Horizon     RL  Oracle\n",
       "Metric                                                         \n",
       "Mean Rewards            791.6              825.3  737.2   774.3\n",
       "Std Rewards              52.3               36.8   24.8    54.0"
      ]
     },
     "execution_count": 30,
     "metadata": {},
     "output_type": "execute_result"
    }
   ],
   "source": [
    "df2 = build_data_table(rh_v2_reward, sh_v2_reward, rl_v2_reward, oracle_v2_reward)\n",
    "df2"
   ]
  },
  {
   "cell_type": "code",
   "execution_count": 31,
   "metadata": {},
   "outputs": [
    {
     "data": {
      "image/png": "[encoded data removed]",
      "text/plain": [
       "<Figure size 864x576 with 1 Axes>"
      ]
     },
     "metadata": {},
     "output_type": "display_data"
    }
   ],
   "source": [
    "# Plot reward averages and std\n",
    "sh_v3_reward = np.array([i.P.values.sum() for i in sh_v3.values()])\n",
    "rh_v3_reward = np.array([i.P.values.sum() for i in rh_v3.values()])\n",
    "oracle_v3_reward = np.array([i.P.values.sum() for i in or_v3.values()])\n",
    "# rl_v3_reward = np.array([i.P.values.sum() for i in rl_v3.values()])\n",
    "\n",
    "plt.figure(figsize=(12,8))\n",
    "plt.bar(0, rh_v3_reward.mean(), yerr=rh_v3_reward.std(), capsize=4)\n",
    "plt.bar(1, sh_v3_reward.mean(), yerr=sh_v3_reward.std(), capsize=4)\n",
    "plt.bar(2, rl_v3_reward.mean(), yerr=rl_v3_reward.std(), capsize=4)\n",
    "plt.bar(3, oracle_v3_reward.mean(), yerr=oracle_v3_reward.std(), capsize=4)\n",
    "\n",
    "plt.xticks(np.arange(4), ['RH', 'SH', 'RL', 'Oracle'])\n",
    "\n",
    "plt.xlabel('Models')\n",
    "plt.ylabel('Profit ($)')\n",
    "plt.title('Profit for Inventory Management with Lost Sales by Model')\n",
    "\n",
    "plt.show()"
   ]
  },
  {
   "cell_type": "code",
   "execution_count": 32,
   "metadata": {},
   "outputs": [
    {
     "data": {
      "text/html": [
       "<div>\n",
       "<style scoped>\n",
       "    .dataframe tbody tr th:only-of-type {\n",
       "        vertical-align: middle;\n",
       "    }\n",
       "\n",
       "    .dataframe tbody tr th {\n",
       "        vertical-align: top;\n",
       "    }\n",
       "\n",
       "    .dataframe thead th {\n",
       "        text-align: right;\n",
       "    }\n",
       "</style>\n",
       "<table border=\"1\" class=\"dataframe\">\n",
       "  <thead>\n",
       "    <tr style=\"text-align: right;\">\n",
       "      <th></th>\n",
       "      <th>Rolling Horizon</th>\n",
       "      <th>Shrinking Horizon</th>\n",
       "      <th>RL</th>\n",
       "      <th>Oracle</th>\n",
       "    </tr>\n",
       "    <tr>\n",
       "      <th>Metric</th>\n",
       "      <th></th>\n",
       "      <th></th>\n",
       "      <th></th>\n",
       "      <th></th>\n",
       "    </tr>\n",
       "  </thead>\n",
       "  <tbody>\n",
       "    <tr>\n",
       "      <th>Mean Rewards</th>\n",
       "      <td>735.8</td>\n",
       "      <td>786.9</td>\n",
       "      <td>757.8</td>\n",
       "      <td>850.8</td>\n",
       "    </tr>\n",
       "    <tr>\n",
       "      <th>Std Rewards</th>\n",
       "      <td>31.1</td>\n",
       "      <td>30.6</td>\n",
       "      <td>33.1</td>\n",
       "      <td>49.1</td>\n",
       "    </tr>\n",
       "  </tbody>\n",
       "</table>\n",
       "</div>"
      ],
      "text/plain": [
       "              Rolling Horizon  Shrinking Horizon     RL  Oracle\n",
       "Metric                                                         \n",
       "Mean Rewards            735.8              786.9  757.8   850.8\n",
       "Std Rewards              31.1               30.6   33.1    49.1"
      ]
     },
     "execution_count": 32,
     "metadata": {},
     "output_type": "execute_result"
    }
   ],
   "source": [
    "df3 = build_data_table(rh_v3_reward, sh_v3_reward, rl_v3_reward, oracle_v3_reward)\n",
    "df3"
   ]
  },
  {
   "cell_type": "code",
   "execution_count": 33,
   "metadata": {},
   "outputs": [],
   "source": [
    "def oracle_check(RH, SH, RL, Oracle):\n",
    "    '''\n",
    "    The Oracle model ought to outperform all other models for\n",
    "    each and every test scenario.\n",
    "    '''\n",
    "    vRH = len(np.where(Oracle>RH)[0])\n",
    "    vSH = len(np.where(Oracle>SH)[0])\n",
    "    vRL = len(np.where(Oracle>RL)[0])\n",
    "    rhp = vRH/len(Oracle) * 100\n",
    "    shp = vSH/len(Oracle) * 100\n",
    "    rlp = vRL/len(Oracle) * 100\n",
    "    print(\"Oracle outperforms in RH {:.2f}% of cases.\".format(rhp))\n",
    "    print(\"Oracle outperforms in SH {:.2f}% of cases.\".format(shp))\n",
    "    print(\"Oracle outperforms in RL {:.2f}% of cases.\".format(rlp))"
   ]
  },
  {
   "cell_type": "code",
   "execution_count": 34,
   "metadata": {},
   "outputs": [
    {
     "name": "stdout",
     "output_type": "stream",
     "text": [
      "Oracle outperforms in RH 27.00% of cases.\n",
      "Oracle outperforms in SH 7.00% of cases.\n",
      "Oracle outperforms in RL 74.00% of cases.\n"
     ]
    }
   ],
   "source": [
    "oracle_check(rh_v2_reward, sh_v2_reward, rl_v2_reward, oracle_v2_reward)"
   ]
  },
  {
   "cell_type": "code",
   "execution_count": 35,
   "metadata": {},
   "outputs": [
    {
     "name": "stdout",
     "output_type": "stream",
     "text": [
      "Oracle outperforms in RH 100.00% of cases.\n",
      "Oracle outperforms in SH 100.00% of cases.\n",
      "Oracle outperforms in RL 94.00% of cases.\n"
     ]
    }
   ],
   "source": [
    "oracle_check(rh_v3_reward, sh_v3_reward, rl_v3_reward, oracle_v3_reward)"
   ]
  },
  {
   "cell_type": "code",
   "execution_count": null,
   "metadata": {},
   "outputs": [],
   "source": [
    "# Compare"
   ]
  }
 ],
 "metadata": {
  "kernelspec": {
   "display_name": "or-gym-dev",
   "language": "python",
   "name": "or-gym-dev"
  },
  "language_info": {
   "codemirror_mode": {
    "name": "ipython",
    "version": 3
   },
   "file_extension": ".py",
   "mimetype": "text/x-python",
   "name": "python",
   "nbconvert_exporter": "python",
   "pygments_lexer": "ipython3",
   "version": "3.8.0"
  }
 },
 "nbformat": 4,
 "nbformat_minor": 4
}
