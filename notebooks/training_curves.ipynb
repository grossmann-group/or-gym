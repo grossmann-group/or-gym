{
 "cells": [
  {
   "cell_type": "code",
   "execution_count": 24,
   "metadata": {},
   "outputs": [],
   "source": [
    "import or_gym\n",
    "from or_gym import utils\n",
    "import numpy as np\n",
    "import pandas as pd\n",
    "import matplotlib.pyplot as plt\n",
    "import ray\n",
    "from ray import tune\n",
    "from ray.rllib import agents\n",
    "import os\n",
    "import pickle"
   ]
  },
  {
   "cell_type": "code",
   "execution_count": 17,
   "metadata": {},
   "outputs": [
    {
     "data": {
      "text/plain": [
       "['PPO_InvManagement-v2_ea14d_00001_1_lr=0.0001,vf_loss_coeff=1.0_2020-11-04_18-01-36',\n",
       " 'PPO_InvManagement-v2_5c8d9_00008_8_lr=1e-06,vf_loss_coeff=0.1_2020-11-04_12-42-49',\n",
       " 'PPO_InvManagement-v2_5c8d9_00002_2_lr=1e-06,vf_loss_coeff=1.0_2020-11-04_12-38-45',\n",
       " 'PPO_InvManagement-v2_ea14d_00003_3_lr=1e-05,vf_loss_coeff=0.5_2020-11-05_04-18-55',\n",
       " 'PPO_InvManagement-v2_5c8d9_00000_0_lr=1e-05,vf_loss_coeff=1.0_2020-11-04_12-37-31',\n",
       " 'PPO_InvManagement-v2_ea14d_00005_5_lr=1e-06,vf_loss_coeff=0.5_2020-11-05_09-10-11',\n",
       " 'PPO_InvManagement-v2_ea14d_00000_0_lr=1e-05,vf_loss_coeff=1.0_2020-11-04_12-55-48',\n",
       " 'PPO_InvManagement-v2_ea14d_00002_2_lr=1e-06,vf_loss_coeff=1.0_2020-11-04_23-12-13',\n",
       " 'PPO_InvManagement-v2_5c8d9_00006_6_lr=1e-05,vf_loss_coeff=0.1_2020-11-04_12-41-27',\n",
       " 'PPO_InvManagement-v2_5c8d9_00004_4_lr=0.0001,vf_loss_coeff=0.5_2020-11-04_12-40-05',\n",
       " 'PPO_InvManagement-v2_5c8d9_00007_7_lr=0.0001,vf_loss_coeff=0.1_2020-11-04_12-42-09',\n",
       " 'PPO_InvManagement-v2_5c8d9_00001_1_lr=0.0001,vf_loss_coeff=1.0_2020-11-04_12-38-06',\n",
       " 'PPO_InvManagement-v2_ea14d_00004_4_lr=0.0001,vf_loss_coeff=0.5_2020-11-05_08-28-03',\n",
       " 'PPO_InvManagement-v2_5c8d9_00005_5_lr=1e-06,vf_loss_coeff=0.5_2020-11-04_12-40-46',\n",
       " 'PPO_InvManagement-v2_5c8d9_00003_3_lr=1e-05,vf_loss_coeff=0.5_2020-11-04_12-39-26']"
      ]
     },
     "execution_count": 17,
     "metadata": {},
     "output_type": "execute_result"
    }
   ],
   "source": [
    "env_name = 'InvManagement-v2'\n",
    "ray_path = '/home/christian/ray_results/PPO'\n",
    "iv2_paths = [p for p in os.listdir(ray_path) if env_name in p]\n",
    "iv2_paths"
   ]
  },
  {
   "cell_type": "code",
   "execution_count": 21,
   "metadata": {},
   "outputs": [
    {
     "name": "stdout",
     "output_type": "stream",
     "text": [
      "PPO_InvManagement-v2_ea14d_00005_5_lr=1e-06,vf_loss_coeff=0.5_2020-11-05_09-10-11 ['params.json', 'events.out.tfevents.1604556611.ubuntu', 'result.json', 'params.pkl', 'progress.csv']\n",
      "PPO_InvManagement-v2_ea14d_00000_0_lr=1e-05,vf_loss_coeff=1.0_2020-11-04_12-55-48 ['events.out.tfevents.1604483748.ubuntu', 'params.json', 'result.json', 'params.pkl', 'progress.csv']\n",
      "PPO_InvManagement-v2_ea14d_00002_2_lr=1e-06,vf_loss_coeff=1.0_2020-11-04_23-12-13 ['events.out.tfevents.1604520733.ubuntu', 'params.json', 'result.json', 'params.pkl', 'progress.csv']\n"
     ]
    }
   ],
   "source": [
    "for p in iv2_paths:\n",
    "    files = os.listdir(os.path.join(ray_path, p))\n",
    "    if 'error.txt' in files:\n",
    "        continue\n",
    "    \n",
    "    print(p, files)"
   ]
  },
  {
   "cell_type": "code",
   "execution_count": 23,
   "metadata": {},
   "outputs": [],
   "source": [
    "def load_policy(path, checkpoint_id=\"500\", pickle=True):\n",
    "    if pickle:\n",
    "        with open(f\"{path}/params.pkl\", \"rb\") as read_file:\n",
    "            config = pickle.load(read_file)\n",
    "    else:\n",
    "        with open(f\"{path}/params.json\", \"r\") as read_file:\n",
    "            config = json.load(read_file)\n",
    "    split_path = path.split('/')\n",
    "    algo = [j for i, j in enumerate(split_path) if split_path[i-1] == 'ray_results'][0].lower()\n",
    "    if hasattr(agents, algo):\n",
    "        agent = getattr(agents, algo)\n",
    "    \n",
    "    trainer = getattr(agent, algo.upper() + 'Trainer')(config, env=create_env(config['env']))\n",
    "    trainer.restore(f\"{path}/checkpoint_{checkpoint_id}/checkpoint-{checkpoint_id}\")\n",
    "    return trainer"
   ]
  },
  {
   "cell_type": "code",
   "execution_count": 25,
   "metadata": {},
   "outputs": [],
   "source": [
    "?tune.run"
   ]
  },
  {
   "cell_type": "code",
   "execution_count": null,
   "metadata": {},
   "outputs": [],
   "source": []
  }
 ],
 "metadata": {
  "kernelspec": {
   "display_name": "or-gym-dev",
   "language": "python",
   "name": "or-gym-dev"
  },
  "language_info": {
   "codemirror_mode": {
    "name": "ipython",
    "version": 3
   },
   "file_extension": ".py",
   "mimetype": "text/x-python",
   "name": "python",
   "nbconvert_exporter": "python",
   "pygments_lexer": "ipython3",
   "version": "3.8.0"
  }
 },
 "nbformat": 4,
 "nbformat_minor": 4
}
